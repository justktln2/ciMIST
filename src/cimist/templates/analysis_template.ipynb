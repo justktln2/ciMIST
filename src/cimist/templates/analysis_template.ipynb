{
 "cells": [
  {
   "cell_type": "code",
   "execution_count": null,
   "id": "8badd6f5-ac73-4112-9683-b477bb65bcdf",
   "metadata": {},
   "outputs": [],
   "source": [
    "import jax\n",
    "jax.config.update('jax_enable_x64', True) # required for ciMIST code to work properly\n",
    "import cimist as cst\n",
    "import matplotlib.pyplot as plt\n",
    "import mdtraj as md"
   ]
  },
  {
   "cell_type": "markdown",
   "id": "000b1891-1738-46d9-abc9-60ffe014d63a",
   "metadata": {},
   "source": [
    "# cIMIST User Guide\n",
    "The following demonstrates the basics of the api.\n",
    "\n",
    "To understand the theory behind ciMIST, refer to [the ciMIST paper](https://www.biorxiv.org/content/10.1101/2025.05.28.656549v2)."
   ]
  },
  {
   "cell_type": "code",
   "execution_count": null,
   "id": "403e6715-c27d-4ed4-ae3e-da6811459384",
   "metadata": {},
   "outputs": [],
   "source": [
    "tree = cst.io.load_h5_tree(\"RESULTS_ciMIST.h5\")\n",
    "structure = md.load(\"pymol/structure.pdb\")\n",
    "\n",
    "# uncomment the following line to create a directory with a new pymol visualization\n",
    "# tree.to_pymol(structure, \"new_pymol\")"
   ]
  },
  {
   "cell_type": "code",
   "execution_count": null,
   "id": "b919714d-d67d-45f8-a51f-7d966d7ac9c9",
   "metadata": {},
   "outputs": [],
   "source": [
    "# estimated entropy, in nats\n",
    "tree.entropy()"
   ]
  },
  {
   "cell_type": "code",
   "execution_count": null,
   "id": "69d8a114-9756-4bae-bdb6-bac215cfaf4a",
   "metadata": {},
   "outputs": [],
   "source": [
    "# 95% credible interval for the entropy, in nats\n",
    "tree.entropy_ci()"
   ]
  },
  {
   "cell_type": "code",
   "execution_count": null,
   "id": "3ab3b122-0231-4c09-a010-cb2df6fde43a",
   "metadata": {},
   "outputs": [],
   "source": [
    "# sum of residue marginal entropies, \n",
    "tree.sum_marginal_entropy()"
   ]
  },
  {
   "cell_type": "code",
   "execution_count": null,
   "id": "c0b03de9-0dd5-4eef-8f9d-d826a4d8b2ff",
   "metadata": {},
   "outputs": [],
   "source": [
    "# sum of mutual informations\n",
    "tree.sum_MIs()"
   ]
  },
  {
   "cell_type": "code",
   "execution_count": null,
   "id": "84f05f9f-dae0-42d2-8e70-15c397d5a7aa",
   "metadata": {},
   "outputs": [],
   "source": [
    "# marginal Shannon entropies of residues\n",
    "tree.residue_entropies()"
   ]
  },
  {
   "cell_type": "code",
   "execution_count": null,
   "id": "a3b2f9f3-2479-4c39-853b-8f64e2fceda0",
   "metadata": {},
   "outputs": [],
   "source": [
    "# summed mutual informations of all neighbors for each residue\n",
    "tree.residue_sum_MIs()"
   ]
  },
  {
   "cell_type": "code",
   "execution_count": null,
   "id": "013f1236-2ef4-4513-bb7d-f017df9bcb3b",
   "metadata": {},
   "outputs": [],
   "source": [
    "# contributions to the conformational entropy (factor of 0.5 shares entropy evenly) across residues.\n",
    "tree.residue_entropies() - 0.5*tree.residue_sum_MIs()"
   ]
  },
  {
   "cell_type": "code",
   "execution_count": null,
   "id": "8590e65b-6d28-4de9-b1dc-9ef8bf6a61ad",
   "metadata": {},
   "outputs": [],
   "source": [
    "# mutual informations for all tree edges\n",
    "tree.tree_MIs()"
   ]
  },
  {
   "cell_type": "code",
   "execution_count": null,
   "id": "87e7ba0f-fd1c-427f-ac04-5bd8628eb1fd",
   "metadata": {},
   "outputs": [],
   "source": [
    "# A networkx graph representing the tree\n",
    "tree.T"
   ]
  },
  {
   "cell_type": "code",
   "execution_count": null,
   "id": "c72409ea-d0df-40d0-9db5-5744daf7b707",
   "metadata": {},
   "outputs": [],
   "source": [
    "# The attribute I_pos_mean contains the mutual informations used in the entropy estimation\n",
    "tree.T.edges(data=\"I_pos_mean\")"
   ]
  },
  {
   "cell_type": "code",
   "execution_count": null,
   "id": "5d911faa-1664-4c3a-9324-decb9b77fcbe",
   "metadata": {},
   "outputs": [],
   "source": [
    "# The node attribute I_pos_mean contains the entropies used in the entropy estimation\n",
    "tree.T.nodes(data=\"S_pos_mean\")"
   ]
  },
  {
   "cell_type": "code",
   "execution_count": null,
   "id": "5d28639e-cae6-4ad7-926f-0654e55e81c1",
   "metadata": {},
   "outputs": [],
   "source": [
    "# mutual informations for all tree edges\n",
    "# A graph with all pairwise mutual informations saved (beyond just those in the tree).\n",
    "# Note that the mutual informations, stored in the attribute 'I' all were estimated with the plugin estimator.\n",
    "# See cst.entropy for other estimators\n",
    "# Remove the semi-colon to display\n",
    "tree.MI_graph.edges(data=True)"
   ]
  }
 ],
 "metadata": {
  "kernelspec": {
   "display_name": "Python 3 (ipykernel)",
   "language": "python",
   "name": "python3"
  },
  "language_info": {
   "codemirror_mode": {
    "name": "ipython",
    "version": 3
   },
   "file_extension": ".py",
   "mimetype": "text/x-python",
   "name": "python",
   "nbconvert_exporter": "python",
   "pygments_lexer": "ipython3",
   "version": "3.13.3"
  }
 },
 "nbformat": 4,
 "nbformat_minor": 5
}
